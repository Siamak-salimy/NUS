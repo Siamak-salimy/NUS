{
 "cells": [
  {
   "cell_type": "markdown",
   "id": "511a0bcb",
   "metadata": {},
   "source": [
    "# Jupyter Installation"
   ]
  },
  {
   "cell_type": "markdown",
   "id": "0b6a11fa",
   "metadata": {},
   "source": [
    "Anaconda, Jupyter"
   ]
  },
  {
   "cell_type": "markdown",
   "id": "54c0ec48",
   "metadata": {},
   "source": [
    "# Operators"
   ]
  },
  {
   "cell_type": "code",
   "execution_count": null,
   "id": "c4a22d31",
   "metadata": {},
   "outputs": [],
   "source": [
    "x=18\n",
    "y=2\n",
    "A=x+y\n",
    "print(A)"
   ]
  },
  {
   "cell_type": "code",
   "execution_count": null,
   "id": "7dc0168b",
   "metadata": {},
   "outputs": [],
   "source": [
    "x=18\n",
    "y=4\n",
    "print('jam=',x+y)\n",
    "print(x-y)\n",
    "print(x*y)\n",
    "print(x/y)\n",
    "print(x//y)\n",
    "print(x%y)"
   ]
  },
  {
   "cell_type": "code",
   "execution_count": null,
   "id": "fbed680c",
   "metadata": {},
   "outputs": [],
   "source": [
    "x=7\n",
    "y=13\n",
    "print('x>y is',x>y)\n",
    "print('x<y is',x<y)\n",
    "print('x==y is',x==y)\n",
    "print('x!=y is',x!=y)\n",
    "print('x>=y is',x>=y)\n",
    "print('x<=y is',x<=y)"
   ]
  },
  {
   "cell_type": "code",
   "execution_count": null,
   "id": "de76bd60",
   "metadata": {},
   "outputs": [],
   "source": [
    "x=True\n",
    "y=False\n",
    "print('x and y is',x and y)\n",
    "print('x or y is',x or y)\n",
    "print('not y is',not y)\n",
    "print('not x is',not x)"
   ]
  },
  {
   "cell_type": "markdown",
   "id": "bcc47c07",
   "metadata": {},
   "source": [
    "# Strings"
   ]
  },
  {
   "cell_type": "code",
   "execution_count": null,
   "id": "bed097b5",
   "metadata": {},
   "outputs": [],
   "source": [
    "s=\"Welcome to Farahoosh\"\n",
    "print(s)\n",
    "type(s)"
   ]
  },
  {
   "cell_type": "code",
   "execution_count": null,
   "id": "14a0c89d",
   "metadata": {},
   "outputs": [],
   "source": [
    "len(s)"
   ]
  },
  {
   "cell_type": "code",
   "execution_count": null,
   "id": "b9492c79",
   "metadata": {},
   "outputs": [],
   "source": [
    "s[8]"
   ]
  },
  {
   "cell_type": "code",
   "execution_count": null,
   "id": "dd33920a",
   "metadata": {},
   "outputs": [],
   "source": [
    "print(s[5:10])"
   ]
  },
  {
   "cell_type": "code",
   "execution_count": null,
   "id": "d6323678",
   "metadata": {},
   "outputs": [],
   "source": [
    "print(s[3:-1])"
   ]
  },
  {
   "cell_type": "code",
   "execution_count": null,
   "id": "05ffcbc3",
   "metadata": {},
   "outputs": [],
   "source": [
    "print(s+\" Autumn Course\")"
   ]
  },
  {
   "cell_type": "code",
   "execution_count": null,
   "id": "efea887b",
   "metadata": {},
   "outputs": [],
   "source": [
    "sahra=\"welcome to python\"\n",
    "print(sahra)"
   ]
  },
  {
   "cell_type": "code",
   "execution_count": null,
   "id": "e6bad3d5",
   "metadata": {},
   "outputs": [],
   "source": [
    "sahra1=sahra.upper()\n",
    "print(sahra1)"
   ]
  },
  {
   "cell_type": "code",
   "execution_count": null,
   "id": "a6898c73",
   "metadata": {},
   "outputs": [],
   "source": [
    "class1=\"WELCOME TO JUPITER\"\n",
    "print(class1)"
   ]
  },
  {
   "cell_type": "code",
   "execution_count": null,
   "id": "a7108d62",
   "metadata": {},
   "outputs": [],
   "source": [
    "print(class1.lower())"
   ]
  },
  {
   "cell_type": "code",
   "execution_count": null,
   "id": "2abdec33",
   "metadata": {},
   "outputs": [],
   "source": [
    "sahra.count(\"o\")"
   ]
  },
  {
   "cell_type": "code",
   "execution_count": null,
   "id": "75071781",
   "metadata": {},
   "outputs": [],
   "source": [
    "sahra.find(\"o\")"
   ]
  },
  {
   "cell_type": "code",
   "execution_count": null,
   "id": "23a08036",
   "metadata": {},
   "outputs": [],
   "source": [
    "sahra.find(\"o\",5)"
   ]
  },
  {
   "cell_type": "code",
   "execution_count": null,
   "id": "1a8e22e1",
   "metadata": {},
   "outputs": [],
   "source": [
    "sahra.find(\"o\",10)"
   ]
  },
  {
   "cell_type": "code",
   "execution_count": null,
   "id": "1b72ead7",
   "metadata": {},
   "outputs": [],
   "source": [
    "oldstring = \"I like python\"\n",
    "\n",
    "newstring = oldstring.replace(\"like\",\"love\")\n",
    "\n",
    "print(newstring)"
   ]
  },
  {
   "cell_type": "markdown",
   "id": "24ef2d0a",
   "metadata": {},
   "source": [
    "# List"
   ]
  },
  {
   "cell_type": "code",
   "execution_count": null,
   "id": "9abd8b96",
   "metadata": {},
   "outputs": [],
   "source": [
    "s=[\"python\",'c++',12,True,\"False\",3.14,\"4.12\"]\n",
    "print(s)\n",
    "type(s)"
   ]
  },
  {
   "cell_type": "code",
   "execution_count": null,
   "id": "274d6f27",
   "metadata": {},
   "outputs": [],
   "source": [
    "s[3:7]"
   ]
  },
  {
   "cell_type": "code",
   "execution_count": null,
   "id": "d57798fa",
   "metadata": {},
   "outputs": [],
   "source": [
    "len(s)"
   ]
  },
  {
   "cell_type": "code",
   "execution_count": null,
   "id": "923421de",
   "metadata": {},
   "outputs": [],
   "source": [
    "s=[\"python\",'c++',\"12\",[\"tehran\",\"False\"],3.14,\"4.12\",\"#\"]\n",
    "\n",
    "s[3]"
   ]
  },
  {
   "cell_type": "code",
   "execution_count": null,
   "id": "52751db4",
   "metadata": {},
   "outputs": [],
   "source": [
    "s[3][0]"
   ]
  },
  {
   "cell_type": "code",
   "execution_count": null,
   "id": "f29a8b45",
   "metadata": {},
   "outputs": [],
   "source": [
    "s[3][0][4]"
   ]
  },
  {
   "cell_type": "code",
   "execution_count": null,
   "id": "c75e7b76",
   "metadata": {},
   "outputs": [],
   "source": [
    "lessons=[\"math\",\"physics\",\"arabic\"]\n",
    "lessons.index(\"physics\")"
   ]
  },
  {
   "cell_type": "code",
   "execution_count": null,
   "id": "a97f14d2",
   "metadata": {},
   "outputs": [],
   "source": [
    "lessons=[\"math\",\"physics\",\"arabic\"]\n",
    "lessons.append(\"algebra\")\n",
    "print(lessons)"
   ]
  },
  {
   "cell_type": "code",
   "execution_count": null,
   "id": "bcdb9bb8",
   "metadata": {},
   "outputs": [],
   "source": [
    "lessons.remove(\"arabic\")\n",
    "lessons"
   ]
  },
  {
   "cell_type": "code",
   "execution_count": null,
   "id": "41dd8740",
   "metadata": {},
   "outputs": [],
   "source": [
    "lessons.extend([\"chemistry\",\"English\"])\n",
    "lessons"
   ]
  },
  {
   "cell_type": "code",
   "execution_count": null,
   "id": "d5f16ec0",
   "metadata": {},
   "outputs": [],
   "source": [
    "lessons.insert(4,\"farsi\")\n",
    "lessons"
   ]
  },
  {
   "cell_type": "code",
   "execution_count": null,
   "id": "3ae65f9d",
   "metadata": {},
   "outputs": [],
   "source": [
    "number=[1,5,2,0,3]\n",
    "number"
   ]
  },
  {
   "cell_type": "code",
   "execution_count": null,
   "id": "6ac8788c",
   "metadata": {},
   "outputs": [],
   "source": [
    "number.sort(reverse=True)\n",
    "number"
   ]
  },
  {
   "cell_type": "code",
   "execution_count": null,
   "id": "9a546adb",
   "metadata": {},
   "outputs": [],
   "source": [
    "charachters=[\"d\",\"a\",\"c\",\"b\",\"G\"]\n",
    "charachters.sort()\n",
    "charachters"
   ]
  },
  {
   "cell_type": "markdown",
   "id": "b2d73ccc",
   "metadata": {},
   "source": [
    "# Tuples"
   ]
  },
  {
   "cell_type": "code",
   "execution_count": null,
   "id": "ee7ad082",
   "metadata": {},
   "outputs": [],
   "source": [
    "t1=(\"b\",\"a\",\"134\",\"34!\",34,True,19.65)\n",
    "print(type(t1))\n",
    "print(t1)"
   ]
  },
  {
   "cell_type": "code",
   "execution_count": null,
   "id": "dec4bfc3",
   "metadata": {},
   "outputs": [],
   "source": [
    "print(t1[4])"
   ]
  },
  {
   "cell_type": "code",
   "execution_count": null,
   "id": "b0621b7b",
   "metadata": {},
   "outputs": [],
   "source": [
    "t1[1:6]"
   ]
  },
  {
   "cell_type": "code",
   "execution_count": null,
   "id": "426dc645",
   "metadata": {},
   "outputs": [],
   "source": [
    "t2=(30)\n",
    "type(t2)"
   ]
  },
  {
   "cell_type": "code",
   "execution_count": null,
   "id": "25c0f5c2",
   "metadata": {},
   "outputs": [],
   "source": [
    "t3=30,\n",
    "type(t3)"
   ]
  },
  {
   "cell_type": "code",
   "execution_count": null,
   "id": "f4085654",
   "metadata": {},
   "outputs": [],
   "source": [
    "t=[\"b\",\"a\",\"134\",\"34!\",34,True,19.65]    # مقایسه با لیست\n",
    "\n",
    "print(t)"
   ]
  },
  {
   "cell_type": "code",
   "execution_count": null,
   "id": "7aa5630e",
   "metadata": {},
   "outputs": [],
   "source": [
    "t[4]=55\n",
    "t"
   ]
  },
  {
   "cell_type": "code",
   "execution_count": null,
   "id": "6047db4a",
   "metadata": {},
   "outputs": [],
   "source": [
    "t1=(\"b\",\"a\",\"a\",\"134\",\"34!\",34,True,19.65)\n",
    "\n",
    "print(t1)"
   ]
  },
  {
   "cell_type": "code",
   "execution_count": null,
   "id": "b035e9de",
   "metadata": {},
   "outputs": [],
   "source": [
    "t1[4]=55       # در تاپل خاصیت جایگذاری وجود ندارد\n",
    "t1"
   ]
  },
  {
   "cell_type": "code",
   "execution_count": null,
   "id": "d6021a52",
   "metadata": {},
   "outputs": [],
   "source": [
    "total=(550,)+t1[0:]\n",
    "total\n"
   ]
  },
  {
   "cell_type": "code",
   "execution_count": null,
   "id": "84669798",
   "metadata": {},
   "outputs": [],
   "source": [
    "t1.count(\"a\")"
   ]
  },
  {
   "cell_type": "markdown",
   "id": "6652996b",
   "metadata": {},
   "source": [
    "# Dictionary"
   ]
  },
  {
   "cell_type": "code",
   "execution_count": null,
   "id": "498ef909",
   "metadata": {},
   "outputs": [],
   "source": [
    "item={\"one\":1,\"two\":2,\"three\":3}\n",
    "print(item)\n",
    "print(type(item))"
   ]
  },
  {
   "cell_type": "code",
   "execution_count": null,
   "id": "7a896ff9",
   "metadata": {},
   "outputs": [],
   "source": [
    "item[\"one\"]"
   ]
  },
  {
   "cell_type": "code",
   "execution_count": null,
   "id": "62a9796b",
   "metadata": {},
   "outputs": [],
   "source": [
    "item[\"three\"]"
   ]
  },
  {
   "cell_type": "code",
   "execution_count": null,
   "id": "fbfddec3",
   "metadata": {},
   "outputs": [],
   "source": [
    "item[\"one\"]=\"first\"\n",
    "item"
   ]
  },
  {
   "cell_type": "code",
   "execution_count": null,
   "id": "cef3e10e",
   "metadata": {},
   "outputs": [],
   "source": [
    "item2={(1,2):\"s1\",(3,6):\"67\",\"f\":11,51:13}\n",
    "print(item2)\n",
    "print(type(item2))"
   ]
  },
  {
   "cell_type": "code",
   "execution_count": null,
   "id": "ce8948ab",
   "metadata": {},
   "outputs": [],
   "source": [
    "item2[(1,2)]"
   ]
  },
  {
   "cell_type": "code",
   "execution_count": null,
   "id": "3471bb97",
   "metadata": {},
   "outputs": [],
   "source": [
    "seasons={\"first\":\"bahar\",\"second\":\"tabestan\",\"third\":\"paeeiz\",\"forth\":\"zemestan\"}\n",
    "print(seasons)\n",
    "type(seasons)"
   ]
  },
  {
   "cell_type": "code",
   "execution_count": null,
   "id": "c508c631",
   "metadata": {},
   "outputs": [],
   "source": [
    "seasons.clear()\n",
    "print(seasons)"
   ]
  },
  {
   "cell_type": "code",
   "execution_count": null,
   "id": "f6086ce7",
   "metadata": {},
   "outputs": [],
   "source": [
    "seasons={\"first\":\"bahar\",\"second\":\"tabestan\",\"third\":\"paeeiz\",\"forth\":\"zemestan\"}\n",
    "print(seasons)"
   ]
  },
  {
   "cell_type": "code",
   "execution_count": null,
   "id": "287719ba",
   "metadata": {},
   "outputs": [],
   "source": [
    "seasons.keys()"
   ]
  },
  {
   "cell_type": "code",
   "execution_count": null,
   "id": "b2448912",
   "metadata": {},
   "outputs": [],
   "source": [
    "seasons.values()"
   ]
  },
  {
   "cell_type": "code",
   "execution_count": null,
   "id": "1d119a68",
   "metadata": {},
   "outputs": [],
   "source": [
    "month={1:\"farvardin\",2:\"ordibehesht\",3:\"khordad\",4:\"tir\",5:\"mordad\",6:\"shahrivar\"}\n",
    "month"
   ]
  },
  {
   "cell_type": "code",
   "execution_count": null,
   "id": "66d0fdbb",
   "metadata": {},
   "outputs": [],
   "source": [
    "\n",
    "#اضافه کردن کلیدها و مقادیر دیکشنری دوم به دیکشنری اولی\n",
    "seasons.update(month)\n",
    "seasons"
   ]
  },
  {
   "cell_type": "markdown",
   "id": "fffcbf93",
   "metadata": {},
   "source": [
    "# Sets"
   ]
  },
  {
   "cell_type": "code",
   "execution_count": null,
   "id": "87c77177",
   "metadata": {},
   "outputs": [],
   "source": [
    "program={\"csharp\",\"c++\",\"asp.net\",\"java\",\"python\"}\n",
    "print(program)\n",
    "type(program)\n"
   ]
  },
  {
   "cell_type": "code",
   "execution_count": null,
   "id": "890f7b27",
   "metadata": {},
   "outputs": [],
   "source": [
    "#اضافه کردن داده x\n",
    "\n",
    "program.add(\"open cv\")\n",
    "program"
   ]
  },
  {
   "cell_type": "code",
   "execution_count": null,
   "id": "3964bf75",
   "metadata": {},
   "outputs": [],
   "source": [
    "#حذف داده x\n",
    "\n",
    "program.remove(\"java\")\n",
    "program"
   ]
  },
  {
   "cell_type": "code",
   "execution_count": null,
   "id": "80f84e26",
   "metadata": {},
   "outputs": [],
   "source": [
    "program.remove(\"Java\")\n",
    "program"
   ]
  },
  {
   "cell_type": "code",
   "execution_count": null,
   "id": "66e76567",
   "metadata": {},
   "outputs": [],
   "source": [
    "program.discard(\"Java\")\n",
    "program"
   ]
  },
  {
   "cell_type": "code",
   "execution_count": null,
   "id": "a738ed10",
   "metadata": {},
   "outputs": [],
   "source": [
    "program.update({\"c+\",\"vb.net\"})\n",
    "program"
   ]
  },
  {
   "cell_type": "code",
   "execution_count": null,
   "id": "8b4433e7",
   "metadata": {},
   "outputs": [],
   "source": [
    "month1={\"mehr\",\"aban\",\"azar\"}\n",
    "month2={\"aban\",\"dey\",\"bahman\"}\n",
    "month3={\"tir\",\"mordad\",\"shahrivar\"}\n",
    "month4={\"tir\",\"mordad\"}\n",
    "print(month1)\n",
    "print(month2)\n",
    "print(month3)\n",
    "print(month4)"
   ]
  },
  {
   "cell_type": "code",
   "execution_count": null,
   "id": "1eefe15a",
   "metadata": {},
   "outputs": [],
   "source": [
    "#بررسی اجتماع دو مجموعه\n",
    "\n",
    "month5=month1.union(month2)\n",
    "print(month5)"
   ]
  },
  {
   "cell_type": "code",
   "execution_count": null,
   "id": "b363f77f",
   "metadata": {},
   "outputs": [],
   "source": [
    "print(month1 | month2)  "
   ]
  },
  {
   "cell_type": "code",
   "execution_count": null,
   "id": "542c5fff",
   "metadata": {},
   "outputs": [],
   "source": [
    "#بررسی اشتراک دو مجموعه\n",
    "\n",
    "month7=month3.intersection(month4)\n",
    "print(month7)"
   ]
  },
  {
   "cell_type": "code",
   "execution_count": null,
   "id": "102edec0",
   "metadata": {},
   "outputs": [],
   "source": [
    "print( month3 & month4 )\n"
   ]
  },
  {
   "cell_type": "code",
   "execution_count": null,
   "id": "022548e7",
   "metadata": {},
   "outputs": [],
   "source": [
    "#بررسی تفاضل دو مجموعه\n",
    "\n",
    "month9=month3.difference(month4)\n",
    "print(month9)"
   ]
  },
  {
   "cell_type": "code",
   "execution_count": null,
   "id": "de8d33bd",
   "metadata": {},
   "outputs": [],
   "source": [
    "print(month3-month4 )\n"
   ]
  },
  {
   "cell_type": "code",
   "execution_count": null,
   "id": "ddc887ab",
   "metadata": {},
   "outputs": [],
   "source": [
    "month10=month4.difference(month3)\n",
    "print(month10)"
   ]
  },
  {
   "cell_type": "markdown",
   "id": "c8743acb",
   "metadata": {},
   "source": [
    "# Session 2:"
   ]
  },
  {
   "cell_type": "markdown",
   "id": "9f4cb9af",
   "metadata": {},
   "source": [
    "\n",
    "# Conditional Statements"
   ]
  },
  {
   "cell_type": "markdown",
   "id": "b2c758c3",
   "metadata": {},
   "source": [
    "\n",
    "if (condition):\n",
    "    statements1\n",
    "    statements2"
   ]
  },
  {
   "cell_type": "code",
   "execution_count": null,
   "id": "f4dabf18",
   "metadata": {},
   "outputs": [],
   "source": [
    "if 3<5:\n",
    "    print('True')"
   ]
  },
  {
   "cell_type": "code",
   "execution_count": null,
   "id": "3f02a1b4",
   "metadata": {},
   "outputs": [],
   "source": [
    "num=20\n",
    "if num>=0:\n",
    "    print(\"the number is mosbat\")\n",
    "print(\"Exit\")  "
   ]
  },
  {
   "cell_type": "code",
   "execution_count": null,
   "id": "8f39f3df",
   "metadata": {},
   "outputs": [],
   "source": [
    "num=-30\n",
    "if num>=0:\n",
    "    print(\"the number is mosbat\")\n",
    "print(\"Exit\")"
   ]
  },
  {
   "cell_type": "code",
   "execution_count": null,
   "id": "15c85954",
   "metadata": {},
   "outputs": [],
   "source": [
    "num=-15\n",
    "if num>=0:\n",
    "    print(\"mosbat\")\n",
    "if num<0:\n",
    "    print(\"manfi\")\n",
    "print(\"done\")"
   ]
  },
  {
   "cell_type": "code",
   "execution_count": null,
   "id": "97c6e7e0",
   "metadata": {},
   "outputs": [],
   "source": [
    "num=0\n",
    "if num>0:\n",
    "    print(\"mosbat\")\n",
    "if num<0:\n",
    "    print(\"manfi\")\n",
    "if num==0:\n",
    "    print(\"zero\")\n",
    "print(\"done\")"
   ]
  },
  {
   "cell_type": "code",
   "execution_count": null,
   "id": "5e039567",
   "metadata": {},
   "outputs": [],
   "source": [
    "num=4321\n",
    "if num%2==0:\n",
    "    print(\"even\")\n",
    "if num%2!=0:\n",
    "    print(\"Odd\")\n",
    "    \n",
    "print(\"Done\")"
   ]
  },
  {
   "cell_type": "code",
   "execution_count": null,
   "id": "e90bb1e6",
   "metadata": {},
   "outputs": [],
   "source": [
    "num=62\n",
    "if num%2==0:\n",
    "    if num%3==0:\n",
    "        print(num)\n",
    "print(\"Exit\")"
   ]
  },
  {
   "cell_type": "code",
   "execution_count": null,
   "id": "d6b1c510",
   "metadata": {},
   "outputs": [],
   "source": [
    "num=661\n",
    "if num%2==0:\n",
    "    print(\"even\")\n",
    "else:\n",
    "    print(\"Odd\")\n",
    "    \n",
    "print(\"Done\")"
   ]
  },
  {
   "cell_type": "code",
   "execution_count": null,
   "id": "ff3094f5",
   "metadata": {},
   "outputs": [],
   "source": [
    "num=98\n",
    "if num<=100:\n",
    "    if num%2==0:\n",
    "        if num%3==0:\n",
    "            print(num)\n",
    "        else:\n",
    "            print(num-1)\n",
    "elif 100<num<200:\n",
    "    print(num)\n",
    "else:\n",
    "    print(\"the number is out of range\")\n",
    "\n",
    "print(\"Exit\")"
   ]
  },
  {
   "cell_type": "markdown",
   "id": "6698e885",
   "metadata": {},
   "source": [
    "# Loops"
   ]
  },
  {
   "cell_type": "code",
   "execution_count": null,
   "id": "6fe77a0f",
   "metadata": {},
   "outputs": [],
   "source": [
    "i = 1\n",
    "while i<5:\n",
    "    print(i)\n",
    "    i=i+1\n",
    "   \n",
    "  \n"
   ]
  },
  {
   "cell_type": "code",
   "execution_count": null,
   "id": "dd4fb556",
   "metadata": {},
   "outputs": [],
   "source": [
    "num=10\n",
    "while num>0:\n",
    "    print(num)\n",
    "    num=num-1\n",
    "print(\"Good bye\")"
   ]
  },
  {
   "cell_type": "code",
   "execution_count": null,
   "id": "c7210d17",
   "metadata": {},
   "outputs": [],
   "source": [
    "#تمرین\n",
    "\n",
    "x=6\n",
    "while x%2==0:\n",
    "    print(x/2)\n",
    "    x=x+1"
   ]
  },
  {
   "cell_type": "code",
   "execution_count": null,
   "id": "9d9b8c95",
   "metadata": {},
   "outputs": [],
   "source": [
    "for Value in Sequence:\n",
    "    #execution and use of Value"
   ]
  },
  {
   "cell_type": "code",
   "execution_count": null,
   "id": "bd829bb3",
   "metadata": {},
   "outputs": [],
   "source": [
    "names = [\"Nazanin\", \"Mehran\", \"Omid\", \"Melisa\", \"sina\"]\n",
    "for x in names:\n",
    "    print(\"Hello \" + x + \"!\")"
   ]
  },
  {
   "cell_type": "code",
   "execution_count": null,
   "id": "7268d3b0",
   "metadata": {},
   "outputs": [],
   "source": [
    "st1=\"Amoozesh\"\n",
    "st2=\"Novin\"\n",
    "st3=st1+st2\n",
    "for char in st3:\n",
    "    print(char)"
   ]
  },
  {
   "cell_type": "markdown",
   "id": "7efa9005",
   "metadata": {},
   "source": [
    "# Functions(توابع)"
   ]
  },
  {
   "cell_type": "code",
   "execution_count": null,
   "id": "a7a4ca04",
   "metadata": {},
   "outputs": [],
   "source": [
    "def rezume():#نام تابع\n",
    "    print(\"\"\"\n",
    "    By:sahra najaflou\n",
    "    instgram id: sahra.farahoosh\n",
    "    my email: najaflou.s66@gmail.com\"\"\")\n",
    "rezume()\n"
   ]
  },
  {
   "cell_type": "code",
   "execution_count": null,
   "id": "8c8e19ad",
   "metadata": {},
   "outputs": [],
   "source": [
    "#تابعی بنویسید که هر عددی بهش بدهیم آن را به توان 3 برساند\n",
    "\n",
    "def Tavan(x):# x ورودی هستش که تابع میگیره \n",
    "    print(x**3)\n",
    "Tavan(5)"
   ]
  },
  {
   "cell_type": "code",
   "execution_count": null,
   "id": "108e2cc9",
   "metadata": {},
   "outputs": [],
   "source": [
    "def zarb(x):\n",
    "    return x*3\n",
    "\n",
    "zarb(2)\n"
   ]
  },
  {
   "cell_type": "code",
   "execution_count": null,
   "id": "6d4af84f",
   "metadata": {},
   "outputs": [],
   "source": [
    "  #moadele daraje 1 #تمرین\n",
    "def moadele(a,x,b):\n",
    "    return(a*x+b)\n",
    "\n",
    "moadele(2,4,8)\n"
   ]
  },
  {
   "cell_type": "code",
   "execution_count": null,
   "id": "09b1dd12",
   "metadata": {},
   "outputs": [],
   "source": [
    "def value(num):\n",
    "    if num >= 0:\n",
    "        return num\n",
    "    else:\n",
    "        return -num"
   ]
  },
  {
   "cell_type": "code",
   "execution_count": null,
   "id": "87745042",
   "metadata": {},
   "outputs": [],
   "source": [
    "value(2)"
   ]
  },
  {
   "cell_type": "code",
   "execution_count": null,
   "id": "fa72fc59",
   "metadata": {},
   "outputs": [],
   "source": [
    "value(-7)"
   ]
  },
  {
   "cell_type": "code",
   "execution_count": null,
   "id": "2e489f47",
   "metadata": {},
   "outputs": [],
   "source": []
  }
 ],
 "metadata": {
  "kernelspec": {
   "display_name": "Python 3 (ipykernel)",
   "language": "python",
   "name": "python3"
  },
  "language_info": {
   "codemirror_mode": {
    "name": "ipython",
    "version": 3
   },
   "file_extension": ".py",
   "mimetype": "text/x-python",
   "name": "python",
   "nbconvert_exporter": "python",
   "pygments_lexer": "ipython3",
   "version": "3.10.10"
  }
 },
 "nbformat": 4,
 "nbformat_minor": 5
}
