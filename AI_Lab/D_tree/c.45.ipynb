{
  "nbformat": 4,
  "nbformat_minor": 0,
  "metadata": {
    "colab": {
      "provenance": [],
      "authorship_tag": "ABX9TyPrLiAA7n2pPPihNkL4SWOk",
      "include_colab_link": true
    },
    "kernelspec": {
      "name": "python3",
      "display_name": "Python 3"
    },
    "language_info": {
      "name": "python"
    }
  },
  "cells": [
    {
      "cell_type": "markdown",
      "metadata": {
        "id": "view-in-github",
        "colab_type": "text"
      },
      "source": [
        "<a href=\"https://colab.research.google.com/github/Siamak-salimy/NUS/blob/main/AI_Lab/D_tree/c.45.ipynb\" target=\"_parent\"><img src=\"https://colab.research.google.com/assets/colab-badge.svg\" alt=\"Open In Colab\"/></a>"
      ]
    },
    {
      "cell_type": "code",
      "source": [
        "import pandas as pd\n",
        "from sklearn.tree import DecisionTreeClassifier\n",
        "from sklearn.model_selection import train_test_split\n",
        "from sklearn.metrics import accuracy_score, classification_report\n",
        "import numpy as np\n",
        "\n"
      ],
      "metadata": {
        "id": "kz1yIRJrdj4c"
      },
      "execution_count": 1,
      "outputs": []
    },
    {
      "cell_type": "code",
      "source": [
        "# -------------------------------------------------\n",
        "# 1. خواندن داده‌ها از GitHub (لینک raw)\n",
        "# -------------------------------------------------\n",
        "diabetes_url = \"https://github.com/Siamak-salimy/NUS/raw/main/AI_Lab/D_tree/diabetes.xlsx\"\n",
        "newdata_url = \"https://github.com/Siamak-salimy/NUS/raw/main/AI_Lab/D_tree/newdata.xlsx\"\n",
        "\n",
        "# بارگذاری داده‌های اصلی\n",
        "df = pd.read_excel(diabetes_url)\n",
        "\n",
        "# حذف سطر اول اضافه (اگر ستون 'sample' وجود داشت)\n",
        "if 'sample' in df.columns:\n",
        "    df = df.drop(columns=['sample'])\n",
        "\n",
        "# تبدیل به عددی و پاک‌سازی\n",
        "df = df.apply(pd.to_numeric, errors='coerce')\n",
        "df = df.dropna(subset=['Outcome'])  # حذف سطرهایی که Outcome NaN است\n",
        "\n",
        "# جایگزینی مقادیر 0 غیرمنطقی با NaN (در ویژگی‌های پزشکی)\n",
        "zero_cols = ['Glucose', 'BloodPressure', 'SkinThickness', 'Insulin', 'BMI']\n",
        "for col in zero_cols:\n",
        "    if col in df.columns:\n",
        "        df[col] = df[col].replace(0, np.nan)\n",
        "\n",
        "df = df.dropna()  # حذف سطرهای دارای NaN\n",
        "\n",
        "# جدا کردن ویژگی‌ها و هدف\n",
        "X = df.drop('Outcome', axis=1)\n",
        "y = df['Outcome'].astype(int)\n"
      ],
      "metadata": {
        "id": "-q6yNH27dj2F"
      },
      "execution_count": 2,
      "outputs": []
    },
    {
      "cell_type": "code",
      "source": [
        "\n",
        "# -------------------------------------------------\n",
        "# 2. ساخت مدل درخت تصمیم (شبیه C5.0 با entropy)\n",
        "# -------------------------------------------------\n",
        "X_train, X_test, y_train, y_test = train_test_split(X, y, test_size=0.2, random_state=42, stratify=y)\n",
        "\n",
        "model = DecisionTreeClassifier(\n",
        "    criterion='entropy',        # شبیه C4.5 / C5.0\n",
        "    max_depth=5,\n",
        "    min_samples_split=10,\n",
        "    min_samples_leaf=5,\n",
        "    random_state=42\n",
        ")\n",
        "\n",
        "model.fit(X_train, y_train)\n",
        "\n",
        "# ارزیابی\n",
        "y_pred = model.predict(X_test)\n",
        "print(\"دقت مدل:\", accuracy_score(y_test, y_pred))\n",
        "print(\"\\nگزارش طبقه‌بندی:\")\n",
        "print(classification_report(y_test, y_pred))\n"
      ],
      "metadata": {
        "colab": {
          "base_uri": "https://localhost:8080/"
        },
        "id": "22PXeC2fdjzN",
        "outputId": "6f17a313-dc7a-47c8-838a-5cbf780d5e90"
      },
      "execution_count": 3,
      "outputs": [
        {
          "output_type": "stream",
          "name": "stdout",
          "text": [
            "دقت مدل: 0.7848101265822784\n",
            "\n",
            "گزارش طبقه‌بندی:\n",
            "              precision    recall  f1-score   support\n",
            "\n",
            "           0       0.86      0.81      0.83        53\n",
            "           1       0.66      0.73      0.69        26\n",
            "\n",
            "    accuracy                           0.78        79\n",
            "   macro avg       0.76      0.77      0.76        79\n",
            "weighted avg       0.79      0.78      0.79        79\n",
            "\n"
          ]
        }
      ]
    },
    {
      "cell_type": "code",
      "source": [
        "\n",
        "# -------------------------------------------------\n",
        "# 3. نمایش ویژگی‌های مهم\n",
        "# -------------------------------------------------\n",
        "importance_df = pd.DataFrame({\n",
        "    'Feature': X.columns,\n",
        "    'Importance': model.feature_importances_\n",
        "}).sort_values('Importance', ascending=False)\n",
        "\n",
        "print(\"\\nویژگی‌های مهم (بر اساس اهمیت):\")\n",
        "print(importance_df)\n"
      ],
      "metadata": {
        "colab": {
          "base_uri": "https://localhost:8080/"
        },
        "id": "wf8KHj08djwM",
        "outputId": "fc4d8e2d-875f-4169-e6a2-fd056e2db499"
      },
      "execution_count": 4,
      "outputs": [
        {
          "output_type": "stream",
          "name": "stdout",
          "text": [
            "\n",
            "ویژگی‌های مهم (بر اساس اهمیت):\n",
            "                    Feature  Importance\n",
            "1                   Glucose    0.423139\n",
            "7                       Age    0.222342\n",
            "5                       BMI    0.179772\n",
            "6  DiabetesPedigreeFunction    0.129153\n",
            "4                   Insulin    0.029483\n",
            "2             BloodPressure    0.016110\n",
            "3             SkinThickness    0.000000\n",
            "0               Pregnancies    0.000000\n"
          ]
        }
      ]
    },
    {
      "cell_type": "code",
      "source": [
        "\n",
        "# -------------------------------------------------\n",
        "# 4. پیش‌بینی برای newdata.xlsx\n",
        "# -------------------------------------------------\n",
        "try:\n",
        "    new_data = pd.read_excel(newdata_url)\n",
        "    if 'sample' in new_data.columns:\n",
        "        new_data = new_data.drop(columns=['sample'])\n",
        "    if 'Outcome' in new_data.columns:\n",
        "        new_data = new_data.drop(columns=['Outcome'])\n",
        "\n",
        "    # پیش‌بینی\n",
        "    predictions = model.predict(new_data)\n",
        "    probabilities = model.predict_proba(new_data)\n",
        "\n",
        "    print(\"\\n\" + \"=\"*50)\n",
        "    print(\"پیش‌بینی برای داده‌های جدید (newdata.xlsx):\")\n",
        "    for i, pred in enumerate(predictions):\n",
        "        prob = probabilities[i][1] if len(probabilities[i]) > 1 else 0\n",
        "        status = \"دیابت دارد\" if pred == 1 else \"دیابت ندارد\"\n",
        "        print(f\"نمونه {i+1}: {status} (احتمال دیابت: {prob:.2%})\")\n",
        "\n",
        "except Exception as e:\n",
        "    print(\"\\n⚠️ فایل newdata.xlsx یافت نشد یا خطا دارد. در عوض، از ورودی کاربر استفاده می‌کنیم.\")\n",
        "    print(\"\\nلطفاً مقادیر بیمار جدید را وارد کنید:\")\n",
        "    new_sample = []\n",
        "    for col in X.columns:\n",
        "        val = float(input(f\"{col}: \"))\n",
        "        new_sample.append(val)\n",
        "\n",
        "    new_sample = np.array(new_sample).reshape(1, -1)\n",
        "    pred = model.predict(new_sample)[0]\n",
        "    prob = model.predict_proba(new_sample)[0][1]\n",
        "\n",
        "    if pred == 1:\n",
        "        print(f\"\\n⚠️ تشخیص: بیمار احتمالاً دیابت دارد. (احتمال دیابت: {prob:.2%})\")\n",
        "    else:\n",
        "        print(f\"\\n✅ تشخیص: بیمار احتمالاً دیابت ندارد. (احتمال عدم دیابت: {1-prob:.2%})\")"
      ],
      "metadata": {
        "colab": {
          "base_uri": "https://localhost:8080/"
        },
        "id": "RyAh13H0djqt",
        "outputId": "6829dcc1-55ca-4b79-957c-8e589fa448fa"
      },
      "execution_count": 5,
      "outputs": [
        {
          "output_type": "stream",
          "name": "stdout",
          "text": [
            "\n",
            "==================================================\n",
            "پیش‌بینی برای داده‌های جدید (newdata.xlsx):\n",
            "نمونه 1: دیابت ندارد (احتمال دیابت: 42.86%)\n"
          ]
        }
      ]
    },
    {
      "cell_type": "code",
      "source": [],
      "metadata": {
        "id": "fFWW--_3djiF"
      },
      "execution_count": null,
      "outputs": []
    },
    {
      "cell_type": "code",
      "execution_count": null,
      "metadata": {
        "id": "X91TF1Madh8O"
      },
      "outputs": [],
      "source": []
    }
  ]
}